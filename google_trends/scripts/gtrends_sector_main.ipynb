{
 "cells": [
  {
   "cell_type": "markdown",
   "id": "8f886e08",
   "metadata": {},
   "source": [
    "# Código para realizar descarga automatizada en Google Trends"
   ]
  },
  {
   "cell_type": "markdown",
   "id": "f4e1c225",
   "metadata": {},
   "source": [
    "Para que el código funcione es neceario instalar las siguientes librerías: \n",
    "- **pandas**: Para manipulación de bases de datos en python\n",
    "- **pytrends**: API no oficial (actualmente *Google Trends* no tiene APIs oficiales) para agilizar/automatizar las descargas por dicha plataforma. Se usa esta API porque es la que recomendó el BID desde el principio. "
   ]
  },
  {
   "cell_type": "markdown",
   "id": "aedbdda5",
   "metadata": {},
   "source": [
    "La manera en la que se sugiere que se instale los paquetes y se corra el código es la siguiente: \n",
    "1. Descargar los programas: \n",
    "    - **VSCode**: Editor de texto para correr python en el computador\n",
    "    - **Anaconda**: Tener python instalado en el computador y poder utilizar **conda** para el manejor de paquetes\n",
    "2. Utilizando la consola de VSCode ejecturar las siguientes líneas de comando en el siguiente orden: \n",
    "    - Crear un nuevo ambiente virtual utilizando *conda*: `conda create --name <<nombre del ambiente>>`\n",
    "    - Activar el ambiente virtual: `conda activate <<nombre del ambiente>>`\n",
    "    - Instalar los paquetes que requiere el código: `conda install pandas pytrends requests tenacity urllib3=1.26.18`\n",
    "3. Indicar a VSCode el ambiente virtual `<<nombre del ambiente>>` para correr python\n",
    "4. Ya se puede ejecutar el código en el cuaderno"
   ]
  },
  {
   "cell_type": "markdown",
   "id": "0029114a",
   "metadata": {},
   "source": [
    "### Librerías de python y rutas de trabajo"
   ]
  },
  {
   "cell_type": "code",
   "execution_count": 4,
   "id": "69a3e154",
   "metadata": {},
   "outputs": [],
   "source": [
    "# Descripcion del script: Descarga las palabras de Google Trends por sector\n",
    "\n",
    "# Librerias de trabajo \n",
    "import time \n",
    "from pathlib import Path  # Librería para trabajar con rutas de archivos\n",
    "import pandas as pd  # Liberaría pandas para trabajar con \"dataframes\" en python\n",
    "from pytrends.request import TrendReq \n",
    "import urllib3\n",
    "\n",
    "# Importar la función del script \"gtrends_functions\" que permite hacer la descarga de las palabras de Google Trends por sector\n",
    "from gtrends_functions import busqueda_google_trends\n",
    "\n",
    "# Especificar el directorio de trabajo principal del Script actual \n",
    "main = Path.cwd().parent"
   ]
  },
  {
   "cell_type": "code",
   "execution_count": 3,
   "id": "54fbd9d6",
   "metadata": {},
   "outputs": [
    {
     "data": {
      "text/plain": [
       "PosixPath('/home/germankux/Documents/Ejercicio3')"
      ]
     },
     "execution_count": 3,
     "metadata": {},
     "output_type": "execute_result"
    }
   ],
   "source": [
    "main"
   ]
  },
  {
   "cell_type": "code",
   "execution_count": null,
   "id": "d8ffbc83",
   "metadata": {},
   "outputs": [],
   "source": [
    "# Especificar tamaño de grupos y palabras para descargar a la vez\n",
    "WORDS_BEFORE_STOP = 1\n",
    "GROUP_SIZE = 5\n",
    "\n",
    "# Especificar tiempos de ejecución\n",
    "SLP_TIME_WORDS = 30\n",
    "SLP_TIME_GROUPS = 60\n",
    "SLP_TIME_SECTORS = 400"
   ]
  },
  {
   "cell_type": "markdown",
   "id": "3b3a36a8",
   "metadata": {},
   "source": [
    "### Descarga de indicadores de búsqueda de palabras de la plataforma de Google Trends por la API no oficial de `pytrends`"
   ]
  },
  {
   "cell_type": "markdown",
   "id": "2a4f0766",
   "metadata": {},
   "source": [
    "##### Recomendaciones para hacer la descarga \n",
    "Para la descarga de indicadores de búsqueda de palabras de la platataforma de Google Trends por la API no oficial de `pytrends` se recomienda tener lo siguiente en consideración: \n",
    "- `pytrends` es una API no oficial, y actualmente Google Trends no tiene ninguna API para hacer la descarga de manera automática desde su plataforma. Por lo anterior, se recomienda hacer la descarga de manera no muy rápida de tal forma que se evite que Google bloquee la IP desde donse se hace la descarga, y ésta deje de funcionar. \n",
    "- El error más común que genera *Google Trends* por la API *pytrends* es: `TooManyRequestsError: The request failed: Google returned a response with code 429` que lo genera cuando detecta que un bot o un scraper está intentando descargar palabras de su plataforma. Si se genera muchas veces dicho error, puede que google trends bloquee la IP. \n",
    "- Si se puede utilizar un VPN, mejor aún para evitar problemas con las descargas y bloqueo de la API a la hora de hacer la descarga. \n",
    "- La función principal que hace la descarga es `busqueda_google_trends` y se encuentra en el archivo `gtrends_functions.py`. No es neceario, entender la función para que el código funcione, pero si se desea se puede revisar la función para entender mejor su funcionamiento. \n",
    "    - Los paramétros importantes que tiene que tener en cuenta la persona que ejecute el código a la hora de utilizar el código son los siguientes: \n",
    "        - `WORDS_BEFORE_STOP`: Cuántas palabras descargar antes de que se suspenda la descarga. A pesar de que el programa permite descargar múltiples palabras, se recomienda hacer la descarga de una sola palabra y pausar el programa, para que Google Trends no ponga problemas con la descarga\n",
    "        - `GROUP_SIZE`: Es otro temporizador que se emplear para suspender la descarga de palabras. De tal forma, que cada cierto grupo de palabras descargadas, se suspende para que Google no detecte el bot o el scraper automatizado. Se sugiere colocar un número bajo de palabras descargadas antes de suspender la descarga, para evitar problemas en la descarga con Google. \n",
    "        - `SLP_TIME_WORDS`: Tiempo de pausa por cada grupo pequeño de palabras\n",
    "        - `SLP_TIME_GROUPS`: \n",
    "        - `SLP_TIME_SECTORS`: "
   ]
  },
  {
   "cell_type": "markdown",
   "id": "40c55e8d",
   "metadata": {},
   "source": []
  }
 ],
 "metadata": {
  "kernelspec": {
   "display_name": "gtrends",
   "language": "python",
   "name": "python3"
  },
  "language_info": {
   "codemirror_mode": {
    "name": "ipython",
    "version": 3
   },
   "file_extension": ".py",
   "mimetype": "text/x-python",
   "name": "python",
   "nbconvert_exporter": "python",
   "pygments_lexer": "ipython3",
   "version": "3.13.5"
  }
 },
 "nbformat": 4,
 "nbformat_minor": 5
}
